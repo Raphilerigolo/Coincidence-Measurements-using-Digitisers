{
 "cells": [
  {
   "attachments": {},
   "cell_type": "markdown",
   "metadata": {},
   "source": [
    "# Labo 2 : gamma radiation\n"
   ]
  },
  {
   "attachments": {},
   "cell_type": "markdown",
   "metadata": {},
   "source": [
    "## Built scheme"
   ]
  },
  {
   "cell_type": "code",
   "execution_count": 1,
   "metadata": {},
   "outputs": [
    {
     "name": "stdout",
     "output_type": "stream",
     "text": [
      "18\n"
     ]
    }
   ],
   "source": [
    "import numpy as np\n",
    "import networkx as nx\n",
    "\n",
    "x_radia = [47.8,80.6,184.9,215.2,280.2,301.4,365.2,410.5,451.3,464.9,529.6,569.9,670.8,710.9,751.2,777.8,810.7,830.6]\n",
    "x_rakca = [0,    1,    2,    3,    4,    5,    6,    7,    8,    9,    10,   11,   12,   13,   14,   15,   16,   17]\n",
    "print(len(x_radia))\n",
    "\n",
    "list_47 = [1,0,1,0,1,0,0,0,0,0,1,0,0,1,1,0,1,1]\n",
    "list_80 = [0,1,1,1,1,0,0,1,0,0,0,0,1,1,1,1,1,1]\n",
    "list_184 = [1,1,1,0,1,1,1,1,1,0,1,1,1,1,1,0,1,1]\n",
    "list_215 = [0,1,0,1,0,0,0,0,1,0,0,0,0,1,0,1,0,0]\n",
    "list_280 = [1,1,1,0,1,0,1,1,1,1,1,1,1,1,1,0,0,1]\n",
    "list_301 = [0,0,1,0,0,1,0,1,1,0,1,0,0,0,0,1,1,0]\n",
    "list_365 = [0,0,1,0,1,0,1,0,1,1,0,0,0,0,0,0,0,0]\n",
    "list_410 = [0,1,1,0,1,1,0,1,0,0,0,0,0,0,0,0,0,1]\n",
    "list_451 = [0,0,1,1,1,1,1,0,1,0,0,0,0,0,0,0,0,1] # enlever 830 en cas d'asymetrie\n",
    "list_464 = [0,0,0,0,1,0,1,0,0,1,0,0,0,0,0,0,0,0]\n",
    "list_529 = [1,0,1,0,1,1,0,0,0,0,1,0,0,1,1,0,0,0]\n",
    "list_569 = [0,0,1,0,1,0,0,0,0,0,0,1,1,0,1,0,0,0]\n",
    "list_670 = [0,1,1,0,1,0,0,0,0,0,0,1,1,0,0,0,0,0]\n",
    "list_710 = [1,1,1,1,1,0,0,0,0,0,1,0,0,1,0,1,1,0]\n",
    "list_751 = [1,1,1,0,1,0,0,0,0,0,1,1,0,0,1,1,1,0] # 777 peut être pas\n",
    "list_777 = [0,1,0,1,0,1,0,0,0,0,0,0,0,1,1,1,0,0]\n",
    "list_810 = [1,1,1,0,0,1,0,0,0,0,0,0,0,1,1,0,1,0]\n",
    "list_830 = [1,1,1,0,1,0,0,1,1,0,0,0,0,0,0,0,0,1]\n",
    "matrix = np.array([list_47,list_80,list_184,list_215,list_280,list_301,list_365,list_410,list_451,list_464,list_529,list_569,list_670,list_710,list_751,list_777,list_810,list_830])\n",
    "non_symmetric_indices = []\n",
    "\n",
    "# print(matrix)\n",
    "\n",
    "for i in range(len(matrix)):\n",
    "    for j in range(len(matrix)):\n",
    "        if matrix[i][j] != matrix[j][i]:\n",
    "            if (j,i) not in non_symmetric_indices: \n",
    "                non_symmetric_indices.append((i,j))\n",
    "\n",
    "\n",
    "for el in non_symmetric_indices:\n",
    "    print(x_radia[el[0]], x_radia[el[1]])\n"
   ]
  },
  {
   "cell_type": "code",
   "execution_count": 2,
   "metadata": {},
   "outputs": [
    {
     "name": "stdout",
     "output_type": "stream",
     "text": [
      "[301.4, 777.8] 1079.1999999999998\n",
      "[280.2, 365.2, 464.9] 1110.3\n",
      "[215.2, 451.3] 666.5\n",
      "[184.9, 301.4, 810.7] 1297.0\n",
      "[184.9, 301.4, 529.6] 1015.9\n",
      "[184.9, 301.4, 451.3] 937.5999999999999\n",
      "[184.9, 301.4, 410.5] 896.8\n",
      "[184.9, 280.2, 569.9, 751.2] 1786.2\n",
      "[184.9, 280.2, 569.9, 670.8] 1705.8\n",
      "[184.9, 280.2, 451.3, 830.6] 1747.0\n",
      "[184.9, 280.2, 365.2, 451.3] 1281.6\n",
      "[80.6, 751.2, 777.8] 1609.6\n",
      "[80.6, 215.2, 710.9, 777.8] 1784.5\n",
      "[80.6, 184.9, 751.2, 810.7] 1827.4\n",
      "[80.6, 184.9, 710.9, 810.7] 1787.1\n",
      "[80.6, 184.9, 280.2, 751.2] 1296.9\n",
      "[80.6, 184.9, 280.2, 710.9] 1256.6\n",
      "[80.6, 184.9, 280.2, 670.8] 1216.5\n",
      "[80.6, 184.9, 280.2, 410.5, 830.6] 1786.8000000000002\n",
      "[47.8, 184.9, 751.2, 810.7] 1794.6000000000001\n",
      "[47.8, 184.9, 710.9, 810.7] 1754.3\n",
      "[47.8, 184.9, 280.2, 830.6] 1343.5\n",
      "[47.8, 184.9, 280.2, 529.6, 751.2] 1793.7\n",
      "[47.8, 184.9, 280.2, 529.6, 710.9] 1753.4\n"
     ]
    }
   ],
   "source": [
    "paths = []\n",
    "for i1 in (0, 1):\n",
    "    for i2 in (0, 1):\n",
    "        for i3 in (0, 1):\n",
    "            for i4 in (0, 1):\n",
    "                for i5 in (0, 1):\n",
    "                    for i6 in (0, 1):\n",
    "                        for i7 in (0, 1):\n",
    "                            for i8 in (0, 1):\n",
    "                                for i9 in (0, 1):\n",
    "                                    for i10 in (0, 1):\n",
    "                                        for i11 in (0, 1):\n",
    "                                            for i12 in (0, 1):\n",
    "                                                for i13 in (0, 1):\n",
    "                                                    for i14 in (0, 1):\n",
    "                                                        for i15 in (0, 1):\n",
    "                                                            for i16 in (0, 1):\n",
    "                                                                for i17 in (0, 1):\n",
    "                                                                    for i18 in (0, 1):\n",
    "                                                                        ix = [i1, i2, i3, i4, i5, i6, i7, i8, i9, i10, i11, i12, i13, i14, i15, i16, i17, i18]\n",
    "                                                                        new_matrix = matrix.copy()\n",
    "                                                                        for i in reversed(range(len(ix))):\n",
    "                                                                            if ix[i] == 0:\n",
    "                                                                                new_matrix = np.delete(new_matrix, i, axis=0)   \n",
    "                                                                                new_matrix = np.delete(new_matrix, i, axis=1)\n",
    "                                                                        if 0 in new_matrix:\n",
    "                                                                            break\n",
    "                                                                        else:\n",
    "                                                                            paths.append(ix)\n",
    "\n",
    "red_paths = []\n",
    "for path in paths:\n",
    "    for path2 in paths:\n",
    "        # remove redudant paths (same 1s in the same order, but more of them in the second path)\n",
    "        if path != path2 and all(path[i] == 1 for i in range(len(path)) if path2[i] == 1):\n",
    "            red_paths.append(path2)\n",
    "\n",
    "for path in paths:\n",
    "    if path not in red_paths:\n",
    "        print([x_radia[i] for i in range(len(path)) if path[i] == 1], sum([x_radia[i] for i in range(len(path)) if path[i] == 1]))"
   ]
  },
  {
   "cell_type": "code",
   "execution_count": 4,
   "metadata": {},
   "outputs": [
    {
     "name": "stdout",
     "output_type": "stream",
     "text": [
      "('184', 19)\n",
      "('280', 12)\n",
      "('80', 8)\n",
      "('751', 6)\n",
      "('47', 5)\n",
      "('301', 5)\n",
      "('710', 5)\n",
      "('810', 5)\n",
      "('451', 4)\n",
      "('529', 3)\n",
      "('777', 3)\n",
      "('830', 3)\n",
      "('215', 2)\n",
      "('365', 2)\n",
      "('410', 2)\n",
      "('569', 2)\n",
      "('670', 2)\n",
      "('464', 1)\n",
      "1297.0 1296.9 [184.9, 301.4, 810.7] [80.6, 184.9, 280.2, 751.2]\n",
      "1786.2 1784.5 [184.9, 280.2, 569.9, 751.2] [80.6, 215.2, 710.9, 777.8]\n",
      "1786.2 1787.1 [184.9, 280.2, 569.9, 751.2] [80.6, 184.9, 710.9, 810.7]\n",
      "1786.2 1786.8 [184.9, 280.2, 569.9, 751.2] [80.6, 184.9, 280.2, 410.5, 830.6]\n",
      "1784.5 1787.1 [80.6, 215.2, 710.9, 777.8] [80.6, 184.9, 710.9, 810.7]\n",
      "1784.5 1786.8 [80.6, 215.2, 710.9, 777.8] [80.6, 184.9, 280.2, 410.5, 830.6]\n",
      "1787.1 1786.8 [80.6, 184.9, 710.9, 810.7] [80.6, 184.9, 280.2, 410.5, 830.6]\n",
      "1794.6 1793.7 [47.8, 184.9, 751.2, 810.7] [47.8, 184.9, 280.2, 529.6, 751.2]\n",
      "1754.3 1753.4 [47.8, 184.9, 710.9, 810.7] [47.8, 184.9, 280.2, 529.6, 710.9]\n"
     ]
    }
   ],
   "source": [
    "# Write a programm that classifies the numbers of apperearance of each number in \"paths\" but not in \"red_paths\"\n",
    "good_paths = []\n",
    "for path in paths:\n",
    "    if path not in red_paths:\n",
    "        good_paths.append(path)\n",
    "\n",
    "dict = {\"47\": 0, \"80\": 0, \"184\": 0, \"215\": 0, \"280\": 0, \"301\": 0, \"365\": 0, \"410\": 0, \"451\": 0, \"464\": 0, \"529\": 0, \"569\": 0, \"670\": 0, \"710\": 0, \"751\": 0, \"777\": 0, \"810\": 0, \"830\": 0}\n",
    "for path in good_paths:\n",
    "    for i in range(len(path)):\n",
    "        if path[i] == 1:\n",
    "            dict[str(int(x_radia[i]))] += 1\n",
    "\n",
    "# sort the dictionary by greatest value to smallest\n",
    "dict = dict.items()\n",
    "dict = sorted(dict, key=lambda x: x[1], reverse=True)\n",
    "\n",
    "# present them in a nice way\n",
    "for el in dict:\n",
    "   print(el)\n",
    "\n",
    "# find the paths that have the same sum of x_radia (+- 5), but are not the same\n",
    "sums = []\n",
    "for path in good_paths: \n",
    "    sums.append(sum([x_radia[i] for i in range(len(path)) if path[i] == 1]))\n",
    "\n",
    "for i in range(len(sums)):\n",
    "    for j in range(i, len(sums)):\n",
    "        if i != j and abs(sums[i] - sums[j]) <= 5:\n",
    "            path1 = good_paths[i]\n",
    "            path2 = good_paths[j]\n",
    "            print(round(sums[i], 3), round(sums[j], 3), [x_radia[l] for l in range(len(path1)) if path1[l] == 1], [x_radia[l] for l in range(len(path2)) if path2[l] == 1])\n",
    "    \n"
   ]
  },
  {
   "cell_type": "code",
   "execution_count": null,
   "metadata": {},
   "outputs": [],
   "source": [
    "1297.0 1296.9 [184.9, 301.4, 810.7] [80.6, 184.9, 280.2, 751.2]\n",
    "# 1786.2 1784.5 [184.9, 280.2, 569.9, 751.2] [80.6, 215.2, 710.9, 777.8]\n",
    "# 1786.2 1787.1 [184.9, 280.2, 569.9, 751.2] [80.6, 184.9, 710.9, 810.7]\n",
    "# 1786.2 1786.8 [184.9, 280.2, 569.9, 751.2] [80.6, 184.9, 280.2, 410.5, 830.6]\n",
    "# 1784.5 1787.1 [80.6, 215.2, 710.9, 777.8] [80.6, 184.9, 710.9, 810.7]\n",
    "# 1784.5 1786.8 [80.6, 215.2, 710.9, 777.8] [80.6, 184.9, 280.2, 410.5, 830.6]\n",
    "# 1787.1 1786.8 [80.6, 184.9, 710.9, 810.7] [80.6, 184.9, 280.2, 410.5, 830.6]\n",
    "1794.6 1793.7 [47.8, 184.9, 751.2, 810.7] [47.8, 184.9, 280.2, 529.6, 751.2]\n",
    "1754.3 1753.4 [47.8, 184.9, 710.9, 810.7] [47.8, 184.9, 280.2, 529.6, 710.9]"
   ]
  }
 ],
 "metadata": {
  "kernelspec": {
   "display_name": "Python 3",
   "language": "python",
   "name": "python3"
  },
  "language_info": {
   "codemirror_mode": {
    "name": "ipython",
    "version": 3
   },
   "file_extension": ".py",
   "mimetype": "text/x-python",
   "name": "python",
   "nbconvert_exporter": "python",
   "pygments_lexer": "ipython3",
   "version": "3.11.9"
  }
 },
 "nbformat": 4,
 "nbformat_minor": 2
}
